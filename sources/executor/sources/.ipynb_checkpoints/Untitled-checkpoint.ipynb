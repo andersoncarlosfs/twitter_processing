{
 "cells": [
  {
   "cell_type": "code",
   "execution_count": 5,
   "metadata": {},
   "outputs": [],
   "source": [
    "import twitter # pip install twitter\n",
    "\n",
    "def main():\n",
    "    # Put here your Twitter API credentials obtained at https://apps.twitter.com/\n",
    "    # Note: you need a Twitter account to create an app.\n",
    "    oauth = twitter.OAuth(\n",
    "        \"1286068996777873415-XYvwZsjLHidDO3KB6njqz8ksGbOZFX\", \n",
    "        \"swrzum2WcOh925irXLSbObzYlwZPdCgnCowobGMo96b2t\",\n",
    "        \"Cv0PLE2GHm4BF1Kk4wgqCkDok\", \n",
    "        \"ASzIep1DHNGuzQoLcBOVedO1Z5yB55KiEVxO9NruFqc1jVeUrN\"\n",
    "    )\n",
    "\n",
    "    t = twitter.TwitterStream(auth=oauth)\n",
    "\n",
    "    sample_tweets_in_english = t.statuses.sample(language=\"en\")\n",
    "    \n",
    "    for tweet in sample_tweets_in_english:    \n",
    "       if \"delete\" in tweet:\n",
    "           # Deleted tweet events do not have any associated text\n",
    "           continue\n",
    "\n",
    "       print(\"===================================\")\n",
    "\n",
    "       # Tweet text\n",
    "       print(tweet[\"text\"])\n",
    "\n",
    "       # Collect hashtags\n",
    "       hashtags = [h['text'] for h in tweet[\"entities\"][\"hashtags\"]]\n",
    "       if len(hashtags) > 0:\n",
    "           print(hashtags)"
   ]
  },
  {
   "cell_type": "code",
   "execution_count": 6,
   "metadata": {},
   "outputs": [
    {
     "name": "stdout",
     "output_type": "stream",
     "text": [
      "<class 'generator'>\n"
     ]
    }
   ],
   "source": [
    "main()"
   ]
  },
  {
   "cell_type": "code",
   "execution_count": null,
   "metadata": {},
   "outputs": [],
   "source": []
  }
 ],
 "metadata": {
  "kernelspec": {
   "display_name": "Python 3",
   "language": "python",
   "name": "python3"
  },
  "language_info": {
   "codemirror_mode": {
    "name": "ipython",
    "version": 3
   },
   "file_extension": ".py",
   "mimetype": "text/x-python",
   "name": "python",
   "nbconvert_exporter": "python",
   "pygments_lexer": "ipython3",
   "version": "3.8.5"
  }
 },
 "nbformat": 4,
 "nbformat_minor": 4
}
